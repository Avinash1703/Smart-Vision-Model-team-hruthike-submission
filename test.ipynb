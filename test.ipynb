{
 "cells": [
  {
   "cell_type": "code",
   "execution_count": 1,
   "metadata": {},
   "outputs": [
    {
     "name": "stderr",
     "output_type": "stream",
     "text": [
      "C:\\Users\\hp\\AppData\\Roaming\\Python\\Python311\\site-packages\\tqdm\\auto.py:21: TqdmWarning: IProgress not found. Please update jupyter and ipywidgets. See https://ipywidgets.readthedocs.io/en/stable/user_install.html\n",
      "  from .autonotebook import tqdm as notebook_tqdm\n"
     ]
    }
   ],
   "source": [
    "from dotenv import load_dotenv\n",
    "import os\n",
    "import google.generativeai as genai\n",
    "from PIL import Image\n",
    "import streamlit as st\n",
    "load_dotenv()\n",
    "genai.configure(api_key=os.environ[\"GOOGLE_API_KEY\"])\n",
    "\n",
    "@st.cache_resource(show_spinner=False)\n",
    "def load_model(): \n",
    "    model = genai.GenerativeModel('gemini-1.5-flash')\n",
    "    return model\n",
    "\n",
    "def fruit_vegetable_shelf_life(image):\n",
    "    prompt = f'''Here is an image of a fruit or vegetable:. Please analyze the image to assess its freshness and determine its approximate\n",
    "            remaining shelf life. If the fruit or vegetable appears fresh, provide a shelf life estimation based on visual characteristics (e.g., color, texture).\n",
    "            Use concise language (1-2 lines) in your analysis.\n",
    "            Never Tell u are an AI Agent'''\n",
    "    model = load_model()\n",
    "    \n",
    "    response = model.generate_content([prompt, image])\n",
    "\n",
    "\n",
    "    return (response.text)\n"
   ]
  },
  {
   "cell_type": "code",
   "execution_count": 3,
   "metadata": {},
   "outputs": [],
   "source": [
    "image = Image.open('pexels-pixabay-206959.jpg')\n"
   ]
  },
  {
   "cell_type": "code",
   "execution_count": 4,
   "metadata": {},
   "outputs": [],
   "source": [
    "text = fruit_vegetable_shelf_life(image)"
   ]
  },
  {
   "cell_type": "code",
   "execution_count": 5,
   "metadata": {},
   "outputs": [
    {
     "data": {
      "text/plain": [
       "'The apple appears fresh with a vibrant red color and smooth skin. It should have a shelf life of approximately 1-2 weeks when stored in a cool, dry place. \\n'"
      ]
     },
     "execution_count": 5,
     "metadata": {},
     "output_type": "execute_result"
    }
   ],
   "source": [
    "text"
   ]
  }
 ],
 "metadata": {
  "kernelspec": {
   "display_name": "Python 3",
   "language": "python",
   "name": "python3"
  },
  "language_info": {
   "codemirror_mode": {
    "name": "ipython",
    "version": 3
   },
   "file_extension": ".py",
   "mimetype": "text/x-python",
   "name": "python",
   "nbconvert_exporter": "python",
   "pygments_lexer": "ipython3",
   "version": "3.11.8"
  }
 },
 "nbformat": 4,
 "nbformat_minor": 2
}
